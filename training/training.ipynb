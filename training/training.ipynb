{
 "cells": [
  {
   "cell_type": "code",
   "execution_count": 155,
   "metadata": {},
   "outputs": [],
   "source": [
    "\n",
    "import numpy as np\n",
    "import cv2\n",
    "import os\n",
    "import sys\n",
    "from sklearn.model_selection import train_test_split\n",
    "import torch\n",
    "import torch.nn as nn\n",
    "import torch.nn.functional as F\n",
    "import torch.utils.data as td\n",
    "import torchvision.transforms as transforms\n",
    "import torchvision.datasets as datasets\n",
    "from sklearn.metrics import f1_score\n",
    "\n"
   ]
  },
  {
   "cell_type": "code",
   "execution_count": 156,
   "metadata": {},
   "outputs": [],
   "source": [
    "# Hyperparameters and settings\n",
    "batch_size = 64\n",
    "test_batch_size = 64\n",
    "input_size = 1 # because there is only one channel \n",
    "output_size = 4\n",
    "num_epochs = 1000\n",
    "learning_rate = 0.001\n",
    "\n"
   ]
  },
  {
   "cell_type": "code",
   "execution_count": 149,
   "metadata": {},
   "outputs": [],
   "source": [
    "# Load traiing, validation and training data\n",
    "\n",
    "data_loader = torch.load('data_loader.pt')\n",
    "valid_loader = torch.load('valid_loader.pt')\n",
    "test_loader = torch.load('test_loader.pt')\n",
    "\n",
    "device = torch.device('cuda' if torch.cuda.is_available() else 'cpu')\n",
    "\n",
    "# Move the data loaders to the desired device\n",
    "data_loader.dataset.tensors = tuple(tensor.to(device) for tensor in data_loader.dataset.tensors)\n",
    "valid_loader.dataset.tensors = tuple(tensor.to(device) for tensor in valid_loader.dataset.tensors)\n",
    "test_loader.dataset.tensors = tuple(tensor.to(device) for tensor in test_loader.dataset.tensors)\n"
   ]
  },
  {
   "cell_type": "code",
   "execution_count": 150,
   "metadata": {},
   "outputs": [],
   "source": [
    "class CNN(nn.Module):\n",
    "    def __init__(self):\n",
    "        self.name = \"CNN\"\n",
    "        super(CNN, self).__init__()\n",
    "        self.conv_layer = nn.Sequential(\n",
    "            nn.Conv2d(in_channels=1, out_channels=32, kernel_size=3, padding=1),\n",
    "            nn.BatchNorm2d(32),\n",
    "            nn.LeakyReLU(inplace=True),\n",
    "            nn.Conv2d(in_channels=32, out_channels=32, kernel_size=3, padding=1),\n",
    "            nn.BatchNorm2d(32),\n",
    "            nn.LeakyReLU(inplace=True),\n",
    "            nn.MaxPool2d(kernel_size=2, stride=2),\n",
    "            nn.Conv2d(in_channels=32, out_channels=64, kernel_size=3, padding=1),\n",
    "            nn.BatchNorm2d(64),\n",
    "            nn.LeakyReLU(inplace=True),\n",
    "            nn.Conv2d(in_channels=64, out_channels=64, kernel_size=3, padding=1),\n",
    "            nn.BatchNorm2d(64),\n",
    "            nn.LeakyReLU(inplace=True),\n",
    "            nn.MaxPool2d(kernel_size=2, stride=2),\n",
    "        )\n",
    "        self.fc_layer = nn.Sequential(\n",
    "            nn.Dropout(p=0.1),\n",
    "            nn.Linear(12 * 12 * 64, 1000),\n",
    "            nn.ReLU(inplace=True),\n",
    "            nn.Linear(1000, 512),\n",
    "            nn.ReLU(inplace=True),\n",
    "            nn.Dropout(p=0.1),\n",
    "            nn.Linear(512, 10)\n",
    "        )\n",
    "    def forward(self, x):\n",
    "        # conv layers\n",
    "        x = self.conv_layer(x)\n",
    "        # print(x.shape)\n",
    "        # flatten\n",
    "        x = x.view(x.size(0), -1)\n",
    "        # print(x.shape)\n",
    "        # fc layer\n",
    "        x = self.fc_layer(x)\n",
    "        return x\n",
    "\n"
   ]
  },
  {
   "cell_type": "code",
   "execution_count": 151,
   "metadata": {},
   "outputs": [],
   "source": [
    "class CNN2(nn.Module):\n",
    "    def __init__(self):\n",
    "        super(CNN2, self).__init__()\n",
    "        self.name = \"CNN2\"\n",
    "        self.conv_layer = nn.Sequential(\n",
    "            nn.Conv2d(in_channels=1, out_channels=32, kernel_size=5, padding=1),\n",
    "            nn.BatchNorm2d(32),\n",
    "            nn.LeakyReLU(inplace=True),\n",
    "            nn.Conv2d(in_channels=32, out_channels=32, kernel_size=5, padding=1),\n",
    "            nn.BatchNorm2d(32),\n",
    "            nn.LeakyReLU(inplace=True),\n",
    "            nn.MaxPool2d(kernel_size=2, stride=2),\n",
    "            nn.Conv2d(in_channels=32, out_channels=64, kernel_size=5, padding=1),\n",
    "            nn.BatchNorm2d(64),\n",
    "            nn.LeakyReLU(inplace=True),\n",
    "            nn.Conv2d(in_channels=64, out_channels=64, kernel_size=5, padding=1),\n",
    "            nn.BatchNorm2d(64),\n",
    "            nn.LeakyReLU(inplace=True),\n",
    "            nn.MaxPool2d(kernel_size=2, stride=2),\n",
    "            #get dimensions of last layer\n",
    "            \n",
    "        )\n",
    "        self.fc_layer = nn.Sequential(\n",
    "            nn.Dropout(p=0.1),\n",
    "            nn.Linear(64*9*9, 32),\n",
    "            nn.ReLU(inplace=True),\n",
    "            nn.Linear(32, 512),\n",
    "            nn.ReLU(inplace=True),\n",
    "            nn.Dropout(p=0.1),\n",
    "            nn.Linear(512, 10)\n",
    "        )\n",
    "    def forward(self, x):\n",
    "        # conv layers\n",
    "        x = self.conv_layer(x)\n",
    "        # print(x.shape)\n",
    "        # flatten\n",
    "        x = x.view(x.size(0), -1)\n",
    "        # print(x.shape)\n",
    "        # fc layer\n",
    "        x = self.fc_layer(x)\n",
    "        return x"
   ]
  },
  {
   "cell_type": "code",
   "execution_count": 152,
   "metadata": {},
   "outputs": [],
   "source": [
    "class CNN3(nn.Module):\n",
    "    def __init__(self):\n",
    "        super(CNN3, self).__init__()\n",
    "        self.name = \"CNN3\"\n",
    "        self.conv_layer = nn.Sequential(\n",
    "            nn.Conv2d(in_channels=1, out_channels=64, kernel_size=7, padding=1),\n",
    "            nn.BatchNorm2d(64),\n",
    "            nn.ReLU(inplace=True),\n",
    "            nn.Conv2d(in_channels=64, out_channels=64, kernel_size=7, padding=1),\n",
    "            nn.BatchNorm2d(64),\n",
    "            nn.ReLU(inplace=True),\n",
    "            nn.MaxPool2d(kernel_size=2, stride=2),\n",
    "           \n",
    "            \n",
    "        )\n",
    "        \n",
    "        self.fc_layer = nn.Sequential(\n",
    "            nn.Dropout(p=0.1),\n",
    "            nn.Linear(20*20*64, 32),\n",
    "            nn.ReLU(inplace=True),\n",
    "            nn.Linear(32, 512),\n",
    "            nn.ReLU(inplace=True),\n",
    "            nn.Dropout(p=0.1),\n",
    "            nn.Linear(512, 10)\n",
    "        )\n",
    "    def forward(self, x):\n",
    "        # conv layers\n",
    "        x = self.conv_layer(x)\n",
    "        # print(x.shape)\n",
    "        # flatten\n",
    "        x = x.view(x.size(0), -1)\n",
    "        # print(x.shape)\n",
    "        # fc layer\n",
    "        x = self.fc_layer(x)\n",
    "        return x"
   ]
  },
  {
   "cell_type": "code",
   "execution_count": 153,
   "metadata": {},
   "outputs": [],
   "source": [
    "def train_and_save_model(model, data_loader, valid_loader, device):\n",
    "    criterion = nn.CrossEntropyLoss()\n",
    "    optimizer = torch.optim.Adam(model.parameters(), lr=learning_rate)\n",
    "\n",
    "    total_step = len(data_loader)\n",
    "    loss_list = []\n",
    "    acc_list = []\n",
    "    f1_list = []\n",
    "\n",
    "    loss_list_test = []\n",
    "    acc_list_test = []\n",
    "    f1_list_test = []\n",
    "\n",
    "    # early stopping parameters\n",
    "    best_loss = 100\n",
    "    patience = 10 # number of epochs to wait before stopping\n",
    "    count = 0\n",
    "    best_epoch = 0\n",
    "    for epoch in range(num_epochs):\n",
    "        for i, (images, labels) in enumerate(data_loader):\n",
    "\n",
    "            # Move images and labels to the device\n",
    "            images = images.to(device)\n",
    "            labels = labels.to(device)\n",
    "            # Forward pass\n",
    "            outputs = model(images)\n",
    "            loss = criterion(outputs, labels)\n",
    "            loss_list.append(loss.item())\n",
    "            # Backprop and optimisation\n",
    "            optimizer.zero_grad()\n",
    "            loss.backward()\n",
    "            optimizer.step()\n",
    "            # Train accuracy\n",
    "            total = labels.size(0)\n",
    "            _, predicted = torch.max(outputs.data, 1)\n",
    "            correct = (predicted == labels).sum().item()\n",
    "            acc_list.append(correct / total)\n",
    "            # Train F1 score\n",
    "            f1 = f1_score(labels.cpu().numpy(), predicted.cpu().numpy(), average='macro')\n",
    "            f1_list.append(f1)\n",
    "            # print(i)\n",
    "            # if (i + 1) % 10 == 0:\n",
    "            #     print('Epoch [{}/{}], Step [{}/{}], Loss: {:.4f}, Accuracy: {:.2f}%'\n",
    "            #     .format(epoch + 1, num_epochs, i + 1, total_step, loss.item(),\n",
    "            #     (correct / total) * 100))\n",
    "\n",
    "        with torch.no_grad():\n",
    "            for i, (images_test, labels_test) in enumerate(valid_loader):\n",
    "                images_test = images_test.to(device)\n",
    "                labels_test = labels_test.to(device)\n",
    "                outputs_test = model(images_test)\n",
    "                loss_test = criterion(outputs_test, labels_test)\n",
    "                loss_list_test.append(loss_test.item())\n",
    "                total_test = labels_test.size(0)\n",
    "                _, predicted_test = torch.max(outputs_test.data, 1)\n",
    "                correct_test = (predicted_test == labels_test).sum().item()\n",
    "                acc_list_test.append(correct_test / total_test)\n",
    "\n",
    "                #Test F1 score\n",
    "                f1_test = f1_score(labels_test.cpu().numpy(), predicted_test.cpu().numpy(), average='macro')\n",
    "                f1_list_test.append(f1_test)\n",
    "                print('Epoch [{}/{}], Step [{}/{}], Loss: {:.4f}, Accuracy: {:.2f}%, F1 Score: {:.2f}'\n",
    "                .format(epoch + 1, num_epochs, i + 1, total_step, loss_test.item(),\n",
    "                (correct / total) * 100, f1_test))\n",
    "        \n",
    "        print(loss_test.item())\n",
    "\n",
    "        #================= Early stopping =================\n",
    "        \n",
    "        #---------- Early stopping with avg F1 score-------\n",
    "        # early stopping to prevent overfitting\n",
    "        # saving model with best accuracy\n",
    "        # avg_f1 = sum(f1_list_test)/len(f1_list_test)\n",
    "        # print('Average F1 score: ', avg_f1)\n",
    "        # if avg_f1 > best_f1:\n",
    "        #     best_f1 = avg_f1\n",
    "        #     count = 0 # reset count\n",
    "        #     #saving best model thus far\n",
    "        #     torch.save(model.state_dict(), '%s.pth'%(model.name))\n",
    "        # else:\n",
    "        #     count += 1\n",
    "        #     if count == patience:\n",
    "        #         print('Early stopping at epoch %d'%(epoch))\n",
    "        #         break\n",
    "\n",
    "        #------------- Early stopping with loss------------\n",
    "        if loss_test.item() < best_loss:\n",
    "            best_loss = loss_test.item()\n",
    "            count = 0 # reset count\n",
    "            best_epoch = epoch\n",
    "            #saving best model thus far\n",
    "            torch.save(model.state_dict(), '%s.pth'%(model.name))\n",
    "            if best_loss < 0.0001:\n",
    "                print('\\n----------------------------------------\\nEarly stopping at epoch %d'%(epoch))\n",
    "                print('Best epoch: ', best_epoch)\n",
    "                print('Best loss: ', best_loss, ' Best test F1 score: ', f1_test, ' Best test accuracy: ', acc_list_test[-1])\n",
    "                break\n",
    "        else:\n",
    "            count += 1\n",
    "            if count == patience:\n",
    "                print('\\n----------------------------------------\\nEarly stopping at epoch %d'%(epoch))\n",
    "                print('Best epoch: ', best_epoch)\n",
    "                print('Best loss: ', best_loss, ' Best test F1 score: ', f1_test, ' Best test accuracy: ', acc_list_test[-1])\n",
    "                break\n",
    "\n",
    "        \n",
    "\n"
   ]
  },
  {
   "cell_type": "code",
   "execution_count": 154,
   "metadata": {},
   "outputs": [
    {
     "name": "stdout",
     "output_type": "stream",
     "text": [
      "Epoch [1/1000], Step [1/4], Loss: 3.3495, Accuracy: 24.65%, F1 Score: 0.10\n",
      "3.349461555480957\n",
      "Epoch [2/1000], Step [1/4], Loss: 1.8342, Accuracy: 40.07%, F1 Score: 0.35\n",
      "1.8341705799102783\n",
      "Epoch [3/1000], Step [1/4], Loss: 1.2632, Accuracy: 40.77%, F1 Score: 0.40\n",
      "1.2631746530532837\n",
      "Epoch [4/1000], Step [1/4], Loss: 1.2080, Accuracy: 41.47%, F1 Score: 0.42\n",
      "1.2079888582229614\n",
      "Epoch [5/1000], Step [1/4], Loss: 1.1514, Accuracy: 46.26%, F1 Score: 0.39\n",
      "1.1513655185699463\n",
      "Epoch [6/1000], Step [1/4], Loss: 1.0634, Accuracy: 51.17%, F1 Score: 0.54\n",
      "1.0633848905563354\n",
      "Epoch [7/1000], Step [1/4], Loss: 0.9781, Accuracy: 52.34%, F1 Score: 0.52\n",
      "0.9781413674354553\n",
      "Epoch [8/1000], Step [1/4], Loss: 0.8699, Accuracy: 64.72%, F1 Score: 0.63\n",
      "0.8698875308036804\n",
      "Epoch [9/1000], Step [1/4], Loss: 0.7483, Accuracy: 68.22%, F1 Score: 0.69\n",
      "0.7482736110687256\n",
      "Epoch [10/1000], Step [1/4], Loss: 0.6571, Accuracy: 71.38%, F1 Score: 0.74\n",
      "0.6571449637413025\n",
      "Epoch [11/1000], Step [1/4], Loss: 0.6064, Accuracy: 74.30%, F1 Score: 0.75\n",
      "0.60636305809021\n",
      "Epoch [12/1000], Step [1/4], Loss: 0.5492, Accuracy: 77.22%, F1 Score: 0.78\n",
      "0.5492163300514221\n",
      "Epoch [13/1000], Step [1/4], Loss: 0.5085, Accuracy: 82.01%, F1 Score: 0.80\n",
      "0.5085193514823914\n",
      "Epoch [14/1000], Step [1/4], Loss: 0.4507, Accuracy: 82.59%, F1 Score: 0.83\n",
      "0.4506722390651703\n",
      "Epoch [15/1000], Step [1/4], Loss: 0.4130, Accuracy: 85.40%, F1 Score: 0.83\n",
      "0.4129891097545624\n"
     ]
    },
    {
     "ename": "KeyboardInterrupt",
     "evalue": "",
     "output_type": "error",
     "traceback": [
      "\u001b[0;31m---------------------------------------------------------------------------\u001b[0m",
      "\u001b[0;31mKeyboardInterrupt\u001b[0m                         Traceback (most recent call last)",
      "Cell \u001b[0;32mIn[154], line 2\u001b[0m\n\u001b[1;32m      1\u001b[0m model1 \u001b[38;5;241m=\u001b[39m CNN()\u001b[38;5;241m.\u001b[39mto(device)\n\u001b[0;32m----> 2\u001b[0m \u001b[43mtrain_and_save_model\u001b[49m\u001b[43m(\u001b[49m\u001b[43mmodel1\u001b[49m\u001b[43m,\u001b[49m\u001b[43m \u001b[49m\u001b[43mdata_loader\u001b[49m\u001b[43m,\u001b[49m\u001b[43m \u001b[49m\u001b[43mvalid_loader\u001b[49m\u001b[43m,\u001b[49m\u001b[43m \u001b[49m\u001b[43mdevice\u001b[49m\u001b[43m)\u001b[49m\n",
      "Cell \u001b[0;32mIn[153], line 36\u001b[0m, in \u001b[0;36mtrain_and_save_model\u001b[0;34m(model, data_loader, valid_loader, device)\u001b[0m\n\u001b[1;32m     34\u001b[0m total \u001b[38;5;241m=\u001b[39m labels\u001b[38;5;241m.\u001b[39msize(\u001b[38;5;241m0\u001b[39m)\n\u001b[1;32m     35\u001b[0m _, predicted \u001b[38;5;241m=\u001b[39m torch\u001b[38;5;241m.\u001b[39mmax(outputs\u001b[38;5;241m.\u001b[39mdata, \u001b[38;5;241m1\u001b[39m)\n\u001b[0;32m---> 36\u001b[0m correct \u001b[38;5;241m=\u001b[39m \u001b[43m(\u001b[49m\u001b[43mpredicted\u001b[49m\u001b[43m \u001b[49m\u001b[38;5;241;43m==\u001b[39;49m\u001b[43m \u001b[49m\u001b[43mlabels\u001b[49m\u001b[43m)\u001b[49m\u001b[38;5;241;43m.\u001b[39;49m\u001b[43msum\u001b[49m\u001b[43m(\u001b[49m\u001b[43m)\u001b[49m\u001b[38;5;241;43m.\u001b[39;49m\u001b[43mitem\u001b[49m\u001b[43m(\u001b[49m\u001b[43m)\u001b[49m\n\u001b[1;32m     37\u001b[0m acc_list\u001b[38;5;241m.\u001b[39mappend(correct \u001b[38;5;241m/\u001b[39m total)\n\u001b[1;32m     38\u001b[0m \u001b[38;5;66;03m# Train F1 score\u001b[39;00m\n",
      "\u001b[0;31mKeyboardInterrupt\u001b[0m: "
     ]
    }
   ],
   "source": [
    "model1 = CNN().to(device)\n",
    "train_and_save_model(model1, data_loader, valid_loader, device)\n"
   ]
  },
  {
   "cell_type": "code",
   "execution_count": null,
   "metadata": {},
   "outputs": [
    {
     "name": "stdout",
     "output_type": "stream",
     "text": [
      "Epoch [1/1000], Step [188/875], Loss: 0.8990, Accuracy: 100.00%, F1 Score: 0.33\n",
      "0.8989832401275635\n",
      "Epoch [2/1000], Step [188/875], Loss: 0.0309, Accuracy: 87.50%, F1 Score: 1.00\n",
      "0.030918803066015244\n",
      "Epoch [3/1000], Step [188/875], Loss: 0.0147, Accuracy: 87.50%, F1 Score: 1.00\n",
      "0.014742441475391388\n",
      "Epoch [4/1000], Step [188/875], Loss: 0.0719, Accuracy: 100.00%, F1 Score: 1.00\n",
      "0.07194199413061142\n"
     ]
    }
   ],
   "source": [
    "#device = torch.device('cpu')\n",
    "\n",
    "model2 = CNN2().to(device)\n",
    "\n",
    "train_and_save_model(model2, data_loader, valid_loader, device)\n"
   ]
  },
  {
   "cell_type": "code",
   "execution_count": null,
   "metadata": {},
   "outputs": [
    {
     "name": "stdout",
     "output_type": "stream",
     "text": [
      "Epoch [1/1000], Step [188/875], Loss: 0.0724, Accuracy: 87.50%, F1 Score: 1.00\n",
      "0.07239838689565659\n",
      "Epoch [2/1000], Step [188/875], Loss: 0.0087, Accuracy: 87.50%, F1 Score: 1.00\n",
      "0.008703045547008514\n",
      "Epoch [3/1000], Step [188/875], Loss: 1.0078, Accuracy: 75.00%, F1 Score: 0.50\n",
      "1.0077533721923828\n",
      "Epoch [4/1000], Step [188/875], Loss: 0.0689, Accuracy: 100.00%, F1 Score: 1.00\n",
      "0.06887052953243256\n",
      "Epoch [5/1000], Step [188/875], Loss: 0.1744, Accuracy: 100.00%, F1 Score: 1.00\n",
      "0.17435261607170105\n",
      "Epoch [6/1000], Step [188/875], Loss: 0.3095, Accuracy: 100.00%, F1 Score: 0.56\n",
      "0.30946850776672363\n",
      "Epoch [7/1000], Step [188/875], Loss: 0.8601, Accuracy: 87.50%, F1 Score: 0.78\n",
      "0.8601047992706299\n",
      "Epoch [8/1000], Step [188/875], Loss: 0.0040, Accuracy: 100.00%, F1 Score: 1.00\n",
      "0.00396255636587739\n",
      "Epoch [9/1000], Step [188/875], Loss: 2.0631, Accuracy: 100.00%, F1 Score: 0.33\n",
      "2.0630524158477783\n",
      "Epoch [10/1000], Step [188/875], Loss: 0.0140, Accuracy: 100.00%, F1 Score: 1.00\n",
      "0.013983601704239845\n",
      "Epoch [11/1000], Step [188/875], Loss: 0.0333, Accuracy: 100.00%, F1 Score: 1.00\n",
      "0.033282287418842316\n",
      "Epoch [12/1000], Step [188/875], Loss: 0.0128, Accuracy: 100.00%, F1 Score: 1.00\n",
      "0.012847859412431717\n",
      "Epoch [13/1000], Step [188/875], Loss: 0.0005, Accuracy: 100.00%, F1 Score: 1.00\n",
      "0.00046605433453805745\n",
      "Epoch [14/1000], Step [188/875], Loss: 0.0030, Accuracy: 100.00%, F1 Score: 1.00\n",
      "0.0029753530398011208\n",
      "Epoch [15/1000], Step [188/875], Loss: 0.0344, Accuracy: 100.00%, F1 Score: 1.00\n",
      "0.03443683311343193\n",
      "Epoch [16/1000], Step [188/875], Loss: 0.0260, Accuracy: 100.00%, F1 Score: 1.00\n",
      "0.02602647989988327\n",
      "Epoch [17/1000], Step [188/875], Loss: 0.0016, Accuracy: 100.00%, F1 Score: 1.00\n",
      "0.0015617600874975324\n",
      "Epoch [18/1000], Step [188/875], Loss: 0.0357, Accuracy: 100.00%, F1 Score: 1.00\n",
      "0.03572807088494301\n",
      "Epoch [19/1000], Step [188/875], Loss: 0.0002, Accuracy: 100.00%, F1 Score: 1.00\n",
      "0.00020535006478894502\n",
      "Epoch [20/1000], Step [188/875], Loss: 0.1584, Accuracy: 100.00%, F1 Score: 1.00\n",
      "0.1584390550851822\n",
      "Epoch [21/1000], Step [188/875], Loss: 0.0345, Accuracy: 100.00%, F1 Score: 1.00\n",
      "0.034455277025699615\n",
      "Epoch [22/1000], Step [188/875], Loss: 0.0136, Accuracy: 100.00%, F1 Score: 1.00\n",
      "0.013584330677986145\n",
      "Epoch [23/1000], Step [188/875], Loss: 0.0014, Accuracy: 100.00%, F1 Score: 1.00\n",
      "0.0014014029875397682\n",
      "Epoch [24/1000], Step [188/875], Loss: 0.0002, Accuracy: 100.00%, F1 Score: 1.00\n",
      "0.000177802488906309\n",
      "Epoch [25/1000], Step [188/875], Loss: 0.6189, Accuracy: 100.00%, F1 Score: 0.78\n",
      "0.6188524961471558\n",
      "Epoch [26/1000], Step [188/875], Loss: 0.0008, Accuracy: 100.00%, F1 Score: 1.00\n",
      "0.0008408535504713655\n",
      "Epoch [27/1000], Step [188/875], Loss: 0.2327, Accuracy: 87.50%, F1 Score: 0.78\n",
      "0.23270374536514282\n",
      "Epoch [28/1000], Step [188/875], Loss: 0.0024, Accuracy: 100.00%, F1 Score: 1.00\n",
      "0.0023992806673049927\n",
      "Epoch [29/1000], Step [188/875], Loss: 0.0019, Accuracy: 100.00%, F1 Score: 1.00\n",
      "0.001911795698106289\n",
      "Epoch [30/1000], Step [188/875], Loss: 1.5506, Accuracy: 100.00%, F1 Score: 0.60\n",
      "1.5506447553634644\n",
      "Epoch [31/1000], Step [188/875], Loss: 0.0000, Accuracy: 100.00%, F1 Score: 1.00\n",
      "2.697022500797175e-05\n",
      "\n",
      "----------------------------------------\n",
      "Early stopping at epoch 30\n",
      "Best epoch:  30\n",
      "Best loss:  2.697022500797175e-05  Best test F1 score:  1.0  Best test accuracy:  1.0\n"
     ]
    }
   ],
   "source": [
    "\n",
    "model3 = CNN3().to(device)\n",
    "train_and_save_model(model3, data_loader, valid_loader, device)"
   ]
  },
  {
   "cell_type": "code",
   "execution_count": null,
   "metadata": {},
   "outputs": [],
   "source": [
    "def evaluate_model(model, valid_loader):\n",
    "    model.eval()\n",
    "    with torch.no_grad():\n",
    "        correct = 0\n",
    "        total = 0\n",
    "        all_labels = []\n",
    "        all_predictions = []\n",
    "        for images, labels in valid_loader:\n",
    "            images = images.to(device)\n",
    "            outputs = model(images)\n",
    "            _, predicted = torch.max(outputs.data, 1)\n",
    "            total += labels.size(0)\n",
    "            correct += (predicted == labels).sum().item()\n",
    "            all_labels.extend(labels.cpu().numpy())\n",
    "            all_predictions.extend(predicted.cpu().numpy())\n",
    "        print('Test Accuracy of the model (validation): {:.2f} %'\n",
    "        .format((correct / total) * 100))\n",
    "        print('F1 Score of the model (validation): {:.2f} %'\n",
    "        .format((f1_score(all_labels, all_predictions, average='macro')) * 100))\n",
    "\n",
    "def test_model(model, test_loader):\n",
    "    model.eval()\n",
    "    with torch.no_grad():\n",
    "        correct = 0\n",
    "        total = 0\n",
    "        all_labels = []\n",
    "        all_predictions = []\n",
    "        for images, labels in test_loader:\n",
    "            images = images.to(device)\n",
    "            outputs = model(images)\n",
    "            _, predicted = torch.max(outputs.data, 1)\n",
    "            total += labels.size(0)\n",
    "            correct += (predicted == labels).sum().item()\n",
    "            all_labels.extend(labels.cpu().numpy())\n",
    "            all_predictions.extend(predicted.cpu().numpy())\n",
    "        print('Test Accuracy of the model (testing): {:.2f} %'\n",
    "        .format((correct / total) * 100))\n",
    "        print('F1 Score of the model (testing): {:.2f} %'\n",
    "        .format((f1_score(all_labels, all_predictions, average='macro')) * 100))"
   ]
  },
  {
   "cell_type": "code",
   "execution_count": null,
   "metadata": {},
   "outputs": [],
   "source": []
  },
  {
   "cell_type": "code",
   "execution_count": null,
   "metadata": {},
   "outputs": [
    {
     "name": "stdout",
     "output_type": "stream",
     "text": [
      "\n",
      "Model:  CNN \n",
      "\n",
      "Test Accuracy of the model (testing): 97.20 %\n",
      "F1 Score of the model (testing): 97.21 %\n",
      "\n",
      "\n",
      "Test Accuracy of the model (testing): 97.33 %\n",
      "F1 Score of the model (testing): 97.33 %\n",
      "\n",
      "Model:  CNN2 \n",
      "\n",
      "Test Accuracy of the model (testing): 97.93 %\n",
      "F1 Score of the model (testing): 97.95 %\n",
      "\n",
      "\n",
      "Test Accuracy of the model (testing): 97.87 %\n",
      "F1 Score of the model (testing): 97.88 %\n",
      "\n",
      "Model:  CNN3 \n",
      "\n",
      "Test Accuracy of the model (testing): 97.13 %\n",
      "F1 Score of the model (testing): 97.16 %\n",
      "\n",
      "\n",
      "Test Accuracy of the model (testing): 98.07 %\n",
      "F1 Score of the model (testing): 98.07 %\n"
     ]
    }
   ],
   "source": [
    "for model in [model1, model2, model3]:\n",
    "    print('\\nModel: ', model.name, '\\n')\n",
    "\n",
    "    evaluate_model(model, valid_loader)\n",
    "    print('\\n')\n",
    "    test_model(model, test_loader)"
   ]
  },
  {
   "cell_type": "code",
   "execution_count": null,
   "metadata": {},
   "outputs": [],
   "source": []
  },
  {
   "cell_type": "code",
   "execution_count": null,
   "metadata": {},
   "outputs": [],
   "source": [
    "# function to test an individual image from an external source\n",
    "def test_individual_image(model, image_name, category, read_custom_path = ''):\n",
    "    if (read_custom_path != ''):\n",
    "        img = cv2.imread(read_custom_path, 0)\n",
    "        image_name = read_custom_path\n",
    "        #save the image\n",
    "    else:\n",
    "        img = cv2.imread(\"../concat_data/%s/%s\" % (category, image_name), 0)\n",
    "    \n",
    "    #resize to 48x48 pixels\n",
    "    img = cv2.resize(img, (48, 48))\n",
    "\n",
    "\n",
    "\n",
    "    #if image 3 channel convert to 1 channel\n",
    "    if len(img.shape) > 2:\n",
    "        img = cv2.cvtColor(img, cv2.COLOR_BGR2GRAY)\n",
    "\n",
    "    cv2.imwrite(\"image_mod.jpg\", img)\n",
    "    \n",
    "    # Convert image to tensor and add batch and channel dimensions\n",
    "    img_tensor = torch.tensor(img, dtype=torch.float32).unsqueeze(0).unsqueeze(0)\n",
    "    \n",
    "    # Get label tensor\n",
    "    labels = {'focused': 0, 'happy': 1, 'neutral': 2, 'surprised': 3}\n",
    "    reverse_labels = {0: 'focused', 1: 'happy', 2: 'neutral', 3: 'surprised'}\n",
    "    label_tensor = torch.tensor(labels[category], dtype=torch.long)\n",
    "\n",
    "    # Forward pass for the single image\n",
    "    img_tensor = img_tensor.to(device)\n",
    "    output = model(img_tensor)\n",
    "    _, predicted = torch.max(output, 1)\n",
    "\n",
    "    # Print results\n",
    "    print(\"Predicted:\", predicted.item(), \"(\", reverse_labels[predicted.item()], \")\")\n",
    "    print(\"Actual:\", label_tensor.item(), \"(\", reverse_labels[label_tensor.item()], \")\")\n",
    "    print(\"Image:\", image_name)\n",
    "    print(\"Category:\", category)\n",
    "    print(\"///////\")\n",
    "    \n",
    "    return predicted.item()"
   ]
  },
  {
   "cell_type": "code",
   "execution_count": null,
   "metadata": {},
   "outputs": [
    {
     "name": "stdout",
     "output_type": "stream",
     "text": [
      "Predicted: 1 ( happy )\n",
      "Actual: 1 ( happy )\n",
      "Image: ../unseen-test-imgs/test_smile.PNG\n",
      "Category: happy\n",
      "///////\n"
     ]
    },
    {
     "data": {
      "text/plain": [
       "1"
      ]
     },
     "execution_count": 83,
     "metadata": {},
     "output_type": "execute_result"
    }
   ],
   "source": [
    "test_individual_image(model2, \"86_MMA-FACIAL-EXPRESSION-mahmoud.jpg\", \"happy\", read_custom_path=r\"../unseen-test-imgs/test_smile.PNG\")\n"
   ]
  },
  {
   "cell_type": "code",
   "execution_count": null,
   "metadata": {},
   "outputs": [
    {
     "name": "stdout",
     "output_type": "stream",
     "text": [
      "Predicted: 1 ( happy )\n",
      "Actual: 2 ( neutral )\n",
      "Image: ../unseen-test-imgs/test_neutral.PNG\n",
      "Category: neutral\n",
      "///////\n"
     ]
    },
    {
     "data": {
      "text/plain": [
       "1"
      ]
     },
     "execution_count": 90,
     "metadata": {},
     "output_type": "execute_result"
    }
   ],
   "source": [
    "test_individual_image(model3, \"86_MMA-FACIAL-EXPRESSION-mahmoud.jpg\", \"neutral\", read_custom_path=r\"../unseen-test-imgs/test_neutral.PNG\")"
   ]
  },
  {
   "cell_type": "code",
   "execution_count": null,
   "metadata": {},
   "outputs": [
    {
     "name": "stdout",
     "output_type": "stream",
     "text": [
      "Predicted: 0 ( focused )\n",
      "Actual: 0 ( focused )\n",
      "Image: ../unseen-test-imgs/test_focused.PNG\n",
      "Category: focused\n",
      "///////\n",
      "Predicted: 0 ( focused )\n",
      "Actual: 0 ( focused )\n",
      "Image: ../unseen-test-imgs/test_focused_2.PNG\n",
      "Category: focused\n",
      "///////\n",
      "Predicted: 0 ( focused )\n",
      "Actual: 0 ( focused )\n",
      "Image: ../unseen-test-imgs/test_focused_3.PNG\n",
      "Category: focused\n",
      "///////\n",
      "Predicted: 0 ( focused )\n",
      "Actual: 0 ( focused )\n",
      "Image: ../unseen-test-imgs/test_focused_4.PNG\n",
      "Category: focused\n",
      "///////\n",
      "Predicted: 0 ( focused )\n",
      "Actual: 0 ( focused )\n",
      "Image: ../unseen-test-imgs/test_focused_5.PNG\n",
      "Category: focused\n",
      "///////\n"
     ]
    },
    {
     "data": {
      "text/plain": [
       "0"
      ]
     },
     "execution_count": 92,
     "metadata": {},
     "output_type": "execute_result"
    }
   ],
   "source": [
    "test_individual_image(model2, \"86_MMA-FACIAL-EXPRESSION-mahmoud.jpg\", \"focused\", read_custom_path=r\"../unseen-test-imgs/test_focused.PNG\")\n",
    "test_individual_image(model2, \"86_MMA-FACIAL-EXPRESSION-mahmoud.jpg\", \"focused\", read_custom_path=r\"../unseen-test-imgs/test_focused_2.PNG\")\n",
    "test_individual_image(model2, \"86_MMA-FACIAL-EXPRESSION-mahmoud.jpg\", \"focused\", read_custom_path=r\"../unseen-test-imgs/test_focused_3.PNG\")\n",
    "test_individual_image(model2, \"86_MMA-FACIAL-EXPRESSION-mahmoud.jpg\", \"focused\", read_custom_path=r\"../unseen-test-imgs/test_focused_4.PNG\")\n",
    "test_individual_image(model2, \"86_MMA-FACIAL-EXPRESSION-mahmoud.jpg\", \"focused\", read_custom_path=r\"../unseen-test-imgs/test_focused_5.PNG\")"
   ]
  },
  {
   "cell_type": "code",
   "execution_count": null,
   "metadata": {},
   "outputs": [
    {
     "name": "stdout",
     "output_type": "stream",
     "text": [
      "Predicted: 3 ( surprised )\n",
      "Actual: 3 ( surprised )\n",
      "Image: ../unseen-test-imgs/test_surprised.PNG\n",
      "Category: surprised\n",
      "///////\n"
     ]
    },
    {
     "data": {
      "text/plain": [
       "3"
      ]
     },
     "execution_count": 86,
     "metadata": {},
     "output_type": "execute_result"
    }
   ],
   "source": [
    "test_individual_image(model1, \"86_MMA-FACIAL-EXPRESSION-mahmoud.jpg\", \"surprised\", read_custom_path=r\"../unseen-test-imgs/test_surprised.PNG\")"
   ]
  },
  {
   "cell_type": "code",
   "execution_count": null,
   "metadata": {},
   "outputs": [
    {
     "name": "stderr",
     "output_type": "stream",
     "text": [
      "[ WARN:0@536.177] global loadsave.cpp:248 findDecoder imread_('../concat_data/focused/86_MMA-FACIAL-EXPRESSION-mahmoud.jpg'): can't open/read file: check file path/integrity\n"
     ]
    },
    {
     "ename": "error",
     "evalue": "OpenCV(4.9.0) /io/opencv/modules/imgproc/src/resize.cpp:4152: error: (-215:Assertion failed) !ssize.empty() in function 'resize'\n",
     "output_type": "error",
     "traceback": [
      "\u001b[0;31m---------------------------------------------------------------------------\u001b[0m",
      "\u001b[0;31merror\u001b[0m                                     Traceback (most recent call last)",
      "Cell \u001b[0;32mIn[59], line 1\u001b[0m\n\u001b[0;32m----> 1\u001b[0m \u001b[43mtest_individual_image\u001b[49m\u001b[43m(\u001b[49m\u001b[43mmodel1\u001b[49m\u001b[43m,\u001b[49m\u001b[43m \u001b[49m\u001b[38;5;124;43m\"\u001b[39;49m\u001b[38;5;124;43m86_MMA-FACIAL-EXPRESSION-mahmoud.jpg\u001b[39;49m\u001b[38;5;124;43m\"\u001b[39;49m\u001b[43m,\u001b[49m\u001b[43m \u001b[49m\u001b[38;5;124;43m\"\u001b[39;49m\u001b[38;5;124;43mfocused\u001b[39;49m\u001b[38;5;124;43m\"\u001b[39;49m\u001b[43m)\u001b[49m\n",
      "Cell \u001b[0;32mIn[52], line 11\u001b[0m, in \u001b[0;36mtest_individual_image\u001b[0;34m(model, image_name, category, read_custom_path)\u001b[0m\n\u001b[1;32m      8\u001b[0m     img \u001b[38;5;241m=\u001b[39m cv2\u001b[38;5;241m.\u001b[39mimread(\u001b[38;5;124m\"\u001b[39m\u001b[38;5;124m../concat_data/\u001b[39m\u001b[38;5;132;01m%s\u001b[39;00m\u001b[38;5;124m/\u001b[39m\u001b[38;5;132;01m%s\u001b[39;00m\u001b[38;5;124m\"\u001b[39m \u001b[38;5;241m%\u001b[39m (category, image_name), \u001b[38;5;241m0\u001b[39m)\n\u001b[1;32m     10\u001b[0m \u001b[38;5;66;03m#resize to 48x48 pixels\u001b[39;00m\n\u001b[0;32m---> 11\u001b[0m img \u001b[38;5;241m=\u001b[39m \u001b[43mcv2\u001b[49m\u001b[38;5;241;43m.\u001b[39;49m\u001b[43mresize\u001b[49m\u001b[43m(\u001b[49m\u001b[43mimg\u001b[49m\u001b[43m,\u001b[49m\u001b[43m \u001b[49m\u001b[43m(\u001b[49m\u001b[38;5;241;43m48\u001b[39;49m\u001b[43m,\u001b[49m\u001b[43m \u001b[49m\u001b[38;5;241;43m48\u001b[39;49m\u001b[43m)\u001b[49m\u001b[43m)\u001b[49m\n\u001b[1;32m     15\u001b[0m \u001b[38;5;66;03m#if image 3 channel convert to 1 channel\u001b[39;00m\n\u001b[1;32m     16\u001b[0m \u001b[38;5;28;01mif\u001b[39;00m \u001b[38;5;28mlen\u001b[39m(img\u001b[38;5;241m.\u001b[39mshape) \u001b[38;5;241m>\u001b[39m \u001b[38;5;241m2\u001b[39m:\n",
      "\u001b[0;31merror\u001b[0m: OpenCV(4.9.0) /io/opencv/modules/imgproc/src/resize.cpp:4152: error: (-215:Assertion failed) !ssize.empty() in function 'resize'\n"
     ]
    }
   ],
   "source": [
    "test_individual_image(model1, \"86_MMA-FACIAL-EXPRESSION-mahmoud.jpg\", \"focused\")"
   ]
  }
 ],
 "metadata": {
  "kernelspec": {
   "display_name": "Python 3",
   "language": "python",
   "name": "python3"
  },
  "language_info": {
   "codemirror_mode": {
    "name": "ipython",
    "version": 3
   },
   "file_extension": ".py",
   "mimetype": "text/x-python",
   "name": "python",
   "nbconvert_exporter": "python",
   "pygments_lexer": "ipython3",
   "version": "3.11.8"
  }
 },
 "nbformat": 4,
 "nbformat_minor": 2
}
