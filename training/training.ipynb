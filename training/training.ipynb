{
 "cells": [
  {
   "cell_type": "code",
   "execution_count": 133,
   "metadata": {},
   "outputs": [],
   "source": [
    "\n",
    "import numpy as np\n",
    "import cv2\n",
    "import os\n",
    "import sys\n",
    "from sklearn.model_selection import train_test_split\n",
    "import torch\n",
    "import torch.nn as nn\n",
    "import torch.nn.functional as F\n",
    "import torch.utils.data as td\n",
    "import torchvision.transforms as transforms\n",
    "import torchvision.datasets as datasets\n",
    "from sklearn.metrics import f1_score\n",
    "\n"
   ]
  },
  {
   "cell_type": "code",
   "execution_count": 134,
   "metadata": {},
   "outputs": [],
   "source": [
    "# Hyperparameters and settings\n",
    "batch_size = 64\n",
    "test_batch_size = 64\n",
    "input_size = 1 # because there is only one channel \n",
    "output_size = 4\n",
    "num_epochs = 1000\n",
    "learning_rate = 0.001\n",
    "\n"
   ]
  },
  {
   "cell_type": "code",
   "execution_count": 135,
   "metadata": {},
   "outputs": [],
   "source": [
    "# Load traiing, validation and training data\n",
    "\n",
    "data_loader = torch.load('data_loader.pt')\n",
    "valid_loader = torch.load('valid_loader.pt')\n",
    "test_loader = torch.load('test_loader.pt')\n",
    "\n",
    "device = torch.device('cuda' if torch.cuda.is_available() else 'cpu')\n",
    "\n",
    "# Move the data loaders to the desired device\n",
    "data_loader.dataset.tensors = tuple(tensor.to(device) for tensor in data_loader.dataset.tensors)\n",
    "valid_loader.dataset.tensors = tuple(tensor.to(device) for tensor in valid_loader.dataset.tensors)\n",
    "test_loader.dataset.tensors = tuple(tensor.to(device) for tensor in test_loader.dataset.tensors)\n"
   ]
  },
  {
   "cell_type": "code",
   "execution_count": 136,
   "metadata": {},
   "outputs": [],
   "source": [
    "# Defining CNN models\n",
    "# NOTE: In-channel is 1 because the images are grayscale"
   ]
  },
  {
   "cell_type": "code",
   "execution_count": 137,
   "metadata": {},
   "outputs": [],
   "source": [
    "class CNN(nn.Module):\n",
    "    def __init__(self):\n",
    "        self.name = \"CNN\"\n",
    "        super(CNN, self).__init__()\n",
    "        self.conv_layer = nn.Sequential(\n",
    "            nn.Conv2d(in_channels=1, out_channels=32, kernel_size=3, padding=1),\n",
    "            nn.BatchNorm2d(32),\n",
    "            nn.LeakyReLU(inplace=True),\n",
    "            nn.Conv2d(in_channels=32, out_channels=32, kernel_size=3, padding=1),\n",
    "            nn.BatchNorm2d(32),\n",
    "            nn.LeakyReLU(inplace=True),\n",
    "            nn.MaxPool2d(kernel_size=2, stride=2),\n",
    "            nn.Conv2d(in_channels=32, out_channels=64, kernel_size=3, padding=1),\n",
    "            nn.BatchNorm2d(64),\n",
    "            nn.LeakyReLU(inplace=True),\n",
    "            nn.Conv2d(in_channels=64, out_channels=64, kernel_size=3, padding=1),\n",
    "            nn.BatchNorm2d(64),\n",
    "            nn.LeakyReLU(inplace=True),\n",
    "            nn.MaxPool2d(kernel_size=2, stride=2),\n",
    "        )\n",
    "        self.fc_layer = nn.Sequential(\n",
    "            nn.Dropout(p=0.1),\n",
    "            nn.Linear(12 * 12 * 64, 1000),\n",
    "            nn.ReLU(inplace=True),\n",
    "            nn.Linear(1000, 512),\n",
    "            nn.ReLU(inplace=True),\n",
    "            nn.Dropout(p=0.1),\n",
    "            nn.Linear(512, 4)\n",
    "        )\n",
    "    def forward(self, x):\n",
    "        # conv layers\n",
    "        x = self.conv_layer(x)\n",
    "        # print(x.shape)\n",
    "        # flatten\n",
    "        x = x.view(x.size(0), -1)\n",
    "        # print(x.shape)\n",
    "        # fc layer\n",
    "        x = self.fc_layer(x)\n",
    "        return x\n",
    "\n"
   ]
  },
  {
   "cell_type": "code",
   "execution_count": 138,
   "metadata": {},
   "outputs": [],
   "source": [
    "class CNN2(nn.Module):\n",
    "    def __init__(self):\n",
    "        super(CNN2, self).__init__()\n",
    "        self.name = \"CNN2\"\n",
    "        self.conv_layer = nn.Sequential(\n",
    "            nn.Conv2d(in_channels=1, out_channels=32, kernel_size=5, padding=1),\n",
    "            nn.BatchNorm2d(32),\n",
    "            nn.LeakyReLU(inplace=True),\n",
    "            nn.Conv2d(in_channels=32, out_channels=32, kernel_size=5, padding=1),\n",
    "            nn.BatchNorm2d(32),\n",
    "            nn.LeakyReLU(inplace=True),\n",
    "            nn.MaxPool2d(kernel_size=2, stride=2),\n",
    "            nn.Conv2d(in_channels=32, out_channels=64, kernel_size=5, padding=1),\n",
    "            nn.BatchNorm2d(64),\n",
    "            nn.LeakyReLU(inplace=True),\n",
    "            nn.Conv2d(in_channels=64, out_channels=64, kernel_size=5, padding=1),\n",
    "            nn.BatchNorm2d(64),\n",
    "            nn.LeakyReLU(inplace=True),\n",
    "            nn.MaxPool2d(kernel_size=2, stride=2),\n",
    "            #get dimensions of last layer\n",
    "            \n",
    "        )\n",
    "        self.fc_layer = nn.Sequential(\n",
    "            nn.Dropout(p=0.1),\n",
    "            nn.Linear(64*9*9, 32),\n",
    "            nn.ReLU(inplace=True),\n",
    "            nn.Linear(32, 512),\n",
    "            nn.ReLU(inplace=True),\n",
    "            nn.Dropout(p=0.1),\n",
    "            nn.Linear(512, 4)\n",
    "        )\n",
    "    def forward(self, x):\n",
    "        # conv layers\n",
    "        x = self.conv_layer(x)\n",
    "        # print(x.shape)\n",
    "        # flatten\n",
    "        x = x.view(x.size(0), -1)\n",
    "        # print(x.shape)\n",
    "        # fc layer\n",
    "        x = self.fc_layer(x)\n",
    "        return x"
   ]
  },
  {
   "cell_type": "code",
   "execution_count": 139,
   "metadata": {},
   "outputs": [],
   "source": [
    "class CNN3(nn.Module):\n",
    "    def __init__(self):\n",
    "        super(CNN3, self).__init__()\n",
    "        self.name = \"CNN3\"\n",
    "        self.conv_layer = nn.Sequential(\n",
    "            nn.Conv2d(in_channels=1, out_channels=32, kernel_size=7, padding=1),\n",
    "            nn.BatchNorm2d(32),\n",
    "            nn.LeakyReLU(inplace=True),\n",
    "            nn.MaxPool2d(kernel_size=2, stride=2),\n",
    "            nn.Conv2d(in_channels=32, out_channels=64, kernel_size=7, padding=1),\n",
    "            nn.BatchNorm2d(64),\n",
    "            nn.LeakyReLU(inplace=True),\n",
    "            nn.Conv2d(in_channels=64, out_channels=64, kernel_size=7, padding=1),\n",
    "            nn.BatchNorm2d(64),\n",
    "            nn.LeakyReLU(inplace=True),\n",
    "            nn.MaxPool2d(kernel_size=2, stride=2),           \n",
    "        )\n",
    "        \n",
    "        self.fc_layer = nn.Sequential(\n",
    "            nn.Dropout(p=0.3),\n",
    "            nn.Linear(7 * 7 * 64, 1000),\n",
    "            nn.ReLU(inplace=True),\n",
    "            nn.Dropout(p=0.3),\n",
    "            nn.Linear(1000, 512),\n",
    "            nn.ReLU(inplace=True),\n",
    "            nn.Dropout(p=0.3),\n",
    "            nn.Linear(512, 4)\n",
    "        )\n",
    "        \n",
    "    def forward(self, x, y=None):\n",
    "        # conv layers\n",
    "        x = self.conv_layer(x)\n",
    "        # print(x.shape)\n",
    "        # flatten\n",
    "        x = x.view(x.size(0), -1)\n",
    "        # print(x.shape)\n",
    "        # fc layer\n",
    "        x = self.fc_layer(x)\n",
    "        return x"
   ]
  },
  {
   "cell_type": "code",
   "execution_count": 140,
   "metadata": {},
   "outputs": [],
   "source": [
    "def train_and_save_model(model, data_loader, valid_loader, device):\n",
    "    criterion = nn.CrossEntropyLoss()\n",
    "    optimizer = torch.optim.Adam(model.parameters(), lr=learning_rate)\n",
    "\n",
    "    total_step = len(data_loader)\n",
    "    loss_list = []\n",
    "    acc_list = []\n",
    "    f1_list = []\n",
    "\n",
    "    loss_list_test = []\n",
    "    acc_list_test = []\n",
    "    f1_list_test = []\n",
    "\n",
    "    # early stopping parameters\n",
    "    best_loss = 100\n",
    "    patience = 10 # number of epochs to wait before stopping\n",
    "    count = 0\n",
    "    best_epoch = 0\n",
    "    for epoch in range(num_epochs):\n",
    "        for i, (images, labels) in enumerate(data_loader):\n",
    "\n",
    "            # Move images and labels to the device\n",
    "            images = images.to(device)\n",
    "            labels = labels.to(device)\n",
    "            # Forward pass\n",
    "            outputs = model(images)\n",
    "            loss = criterion(outputs, labels)\n",
    "            loss_list.append(loss.item())\n",
    "            # Backprop and optimisation\n",
    "            optimizer.zero_grad()\n",
    "            loss.backward()\n",
    "            optimizer.step()\n",
    "            # Train accuracy\n",
    "            total = labels.size(0)\n",
    "            _, predicted = torch.max(outputs.data, 1)\n",
    "            correct = (predicted == labels).sum().item()\n",
    "            acc_list.append(correct / total)\n",
    "            # Train F1 score\n",
    "            f1 = f1_score(labels.cpu().numpy(), predicted.cpu().numpy(), average='macro')\n",
    "            f1_list.append(f1)\n",
    "            # print(i)\n",
    "            # if (i + 1) % 10 == 0:\n",
    "            #     print('Epoch [{}/{}], Step [{}/{}], Loss: {:.4f}, Accuracy: {:.2f}%'\n",
    "            #     .format(epoch + 1, num_epochs, i + 1, total_step, loss.item(),\n",
    "            #     (correct / total) * 100))\n",
    "\n",
    "        with torch.no_grad():\n",
    "            for i, (images_test, labels_test) in enumerate(valid_loader):\n",
    "                images_test = images_test.to(device)\n",
    "                labels_test = labels_test.to(device)\n",
    "                outputs_test = model(images_test)\n",
    "                loss_test = criterion(outputs_test, labels_test)\n",
    "                loss_list_test.append(loss_test.item())\n",
    "                total_test = labels_test.size(0)\n",
    "                _, predicted_test = torch.max(outputs_test.data, 1)\n",
    "                correct_test = (predicted_test == labels_test).sum().item()\n",
    "                acc_list_test.append(correct_test / total_test)\n",
    "\n",
    "                #Test F1 score\n",
    "                f1_test = f1_score(labels_test.cpu().numpy(), predicted_test.cpu().numpy(), average='macro')\n",
    "                f1_list_test.append(f1_test)\n",
    "                print('Epoch [{}/{}], Step [{}/{}], Loss: {:.4f}, Accuracy: {:.2f}%, F1 Score: {:.2f}'\n",
    "                .format(epoch + 1, num_epochs, i + 1, total_step, loss_test.item(),\n",
    "                (correct / total) * 100, f1_test))\n",
    "\n",
    "        #================= Early stopping =================\n",
    "        \n",
    "        #---------- Early stopping with avg F1 score-------\n",
    "        # early stopping to prevent overfitting\n",
    "        # saving model with best accuracy\n",
    "        # avg_f1 = sum(f1_list_test)/len(f1_list_test)\n",
    "        # print('Average F1 score: ', avg_f1)\n",
    "        # if avg_f1 > best_f1:\n",
    "        #     best_f1 = avg_f1\n",
    "        #     count = 0 # reset count\n",
    "        #     #saving best model thus far\n",
    "        #     torch.save(model.state_dict(), '%s.pth'%(model.name))\n",
    "        # else:\n",
    "        #     count += 1\n",
    "        #     if count == patience:\n",
    "        #         print('Early stopping at epoch %d'%(epoch))\n",
    "        #         break\n",
    "\n",
    "        #------------- Early stopping with loss------------\n",
    "        if loss_test.item() < best_loss:\n",
    "            best_loss = loss_test.item()\n",
    "            count = 0 # reset count\n",
    "            best_epoch = epoch\n",
    "            #saving best model thus far\n",
    "            torch.save(model.state_dict(), '%s.pth'%(model.name))\n",
    "            if best_loss < 0.0001:\n",
    "                print('\\n----------------------------------------\\nEarly stopping at epoch %d'%(epoch))\n",
    "                print('Best epoch: ', best_epoch)\n",
    "                print('Best loss: ', best_loss, ' Best test F1 score: ', f1_test, ' Best test accuracy: ', acc_list_test[-1])\n",
    "                break\n",
    "        else:\n",
    "            count += 1\n",
    "            if count == patience:\n",
    "                print('\\n----------------------------------------\\nEarly stopping at epoch %d'%(epoch))\n",
    "                print('Best epoch: ', best_epoch)\n",
    "                print('Best loss: ', best_loss, ' Best test F1 score: ', f1_test, ' Best test accuracy: ', acc_list_test[-1])\n",
    "                break\n",
    "\n",
    "        \n",
    "\n"
   ]
  },
  {
   "cell_type": "code",
   "execution_count": 141,
   "metadata": {},
   "outputs": [
    {
     "name": "stdout",
     "output_type": "stream",
     "text": [
      "Epoch [1/1000], Step [1/4], Loss: 3.4680, Accuracy: 40.07%, F1 Score: 0.20\n",
      "Epoch [2/1000], Step [1/4], Loss: 1.6372, Accuracy: 36.45%, F1 Score: 0.24\n",
      "Epoch [3/1000], Step [1/4], Loss: 1.1717, Accuracy: 45.79%, F1 Score: 0.46\n",
      "Epoch [4/1000], Step [1/4], Loss: 1.1199, Accuracy: 48.25%, F1 Score: 0.44\n",
      "Epoch [5/1000], Step [1/4], Loss: 1.0494, Accuracy: 52.22%, F1 Score: 0.45\n",
      "Epoch [6/1000], Step [1/4], Loss: 0.9342, Accuracy: 56.31%, F1 Score: 0.55\n",
      "Epoch [7/1000], Step [1/4], Loss: 0.8432, Accuracy: 60.40%, F1 Score: 0.59\n",
      "Epoch [8/1000], Step [1/4], Loss: 0.7944, Accuracy: 64.60%, F1 Score: 0.64\n",
      "Epoch [9/1000], Step [1/4], Loss: 0.7342, Accuracy: 67.64%, F1 Score: 0.67\n",
      "Epoch [10/1000], Step [1/4], Loss: 0.6710, Accuracy: 73.01%, F1 Score: 0.72\n",
      "Epoch [11/1000], Step [1/4], Loss: 0.5877, Accuracy: 77.10%, F1 Score: 0.76\n",
      "Epoch [12/1000], Step [1/4], Loss: 0.5331, Accuracy: 79.32%, F1 Score: 0.79\n",
      "Epoch [13/1000], Step [1/4], Loss: 0.4841, Accuracy: 84.46%, F1 Score: 0.81\n",
      "Epoch [14/1000], Step [1/4], Loss: 0.4203, Accuracy: 87.38%, F1 Score: 0.85\n",
      "Epoch [15/1000], Step [1/4], Loss: 0.3892, Accuracy: 87.73%, F1 Score: 0.86\n",
      "Epoch [16/1000], Step [1/4], Loss: 0.3553, Accuracy: 88.90%, F1 Score: 0.88\n",
      "Epoch [17/1000], Step [1/4], Loss: 0.3438, Accuracy: 90.42%, F1 Score: 0.88\n",
      "Epoch [18/1000], Step [1/4], Loss: 0.3393, Accuracy: 91.94%, F1 Score: 0.88\n",
      "Epoch [19/1000], Step [1/4], Loss: 0.3270, Accuracy: 91.82%, F1 Score: 0.88\n",
      "Epoch [20/1000], Step [1/4], Loss: 0.3052, Accuracy: 93.57%, F1 Score: 0.90\n",
      "Epoch [21/1000], Step [1/4], Loss: 0.3043, Accuracy: 93.34%, F1 Score: 0.90\n",
      "Epoch [22/1000], Step [1/4], Loss: 0.3083, Accuracy: 94.16%, F1 Score: 0.89\n",
      "Epoch [23/1000], Step [1/4], Loss: 0.3093, Accuracy: 94.74%, F1 Score: 0.90\n",
      "Epoch [24/1000], Step [1/4], Loss: 0.2875, Accuracy: 93.57%, F1 Score: 0.90\n",
      "Epoch [25/1000], Step [1/4], Loss: 0.2943, Accuracy: 95.33%, F1 Score: 0.90\n",
      "Epoch [26/1000], Step [1/4], Loss: 0.2942, Accuracy: 95.33%, F1 Score: 0.90\n",
      "Epoch [27/1000], Step [1/4], Loss: 0.2929, Accuracy: 97.43%, F1 Score: 0.90\n",
      "Epoch [28/1000], Step [1/4], Loss: 0.3257, Accuracy: 97.66%, F1 Score: 0.91\n",
      "Epoch [29/1000], Step [1/4], Loss: 0.3380, Accuracy: 98.36%, F1 Score: 0.91\n",
      "Epoch [30/1000], Step [1/4], Loss: 0.2969, Accuracy: 96.85%, F1 Score: 0.91\n",
      "Epoch [31/1000], Step [1/4], Loss: 0.3612, Accuracy: 97.66%, F1 Score: 0.89\n",
      "Epoch [32/1000], Step [1/4], Loss: 0.3167, Accuracy: 98.36%, F1 Score: 0.91\n",
      "Epoch [33/1000], Step [1/4], Loss: 0.3242, Accuracy: 98.36%, F1 Score: 0.90\n",
      "Epoch [34/1000], Step [1/4], Loss: 0.2756, Accuracy: 98.83%, F1 Score: 0.92\n",
      "Epoch [35/1000], Step [1/4], Loss: 0.3082, Accuracy: 98.71%, F1 Score: 0.91\n",
      "Epoch [36/1000], Step [1/4], Loss: 0.2907, Accuracy: 99.65%, F1 Score: 0.92\n",
      "Epoch [37/1000], Step [1/4], Loss: 0.3212, Accuracy: 98.95%, F1 Score: 0.92\n",
      "Epoch [38/1000], Step [1/4], Loss: 0.2972, Accuracy: 99.65%, F1 Score: 0.91\n",
      "Epoch [39/1000], Step [1/4], Loss: 0.3074, Accuracy: 99.88%, F1 Score: 0.91\n",
      "Epoch [40/1000], Step [1/4], Loss: 0.3125, Accuracy: 99.53%, F1 Score: 0.91\n",
      "Epoch [41/1000], Step [1/4], Loss: 0.3001, Accuracy: 99.65%, F1 Score: 0.92\n",
      "Epoch [42/1000], Step [1/4], Loss: 0.3217, Accuracy: 100.00%, F1 Score: 0.92\n",
      "Epoch [43/1000], Step [1/4], Loss: 0.3026, Accuracy: 100.00%, F1 Score: 0.92\n",
      "Epoch [44/1000], Step [1/4], Loss: 0.3212, Accuracy: 99.65%, F1 Score: 0.91\n",
      "\n",
      "----------------------------------------\n",
      "Early stopping at epoch 43\n",
      "Best epoch:  33\n",
      "Best loss:  0.2756492793560028  Best test F1 score:  0.9137949586408568  Best test accuracy:  0.914\n"
     ]
    }
   ],
   "source": [
    "model1 = CNN().to(device)\n",
    "train_and_save_model(model1, data_loader, valid_loader, device)\n"
   ]
  },
  {
   "cell_type": "code",
   "execution_count": 163,
   "metadata": {},
   "outputs": [
    {
     "name": "stdout",
     "output_type": "stream",
     "text": [
      "Epoch [1/1000], Step [1/4], Loss: 0.8360, Accuracy: 61.21%, F1 Score: 0.69\n",
      "Epoch [2/1000], Step [1/4], Loss: 0.5094, Accuracy: 81.66%, F1 Score: 0.79\n",
      "Epoch [3/1000], Step [1/4], Loss: 0.3750, Accuracy: 86.92%, F1 Score: 0.86\n",
      "Epoch [4/1000], Step [1/4], Loss: 0.3381, Accuracy: 90.89%, F1 Score: 0.88\n",
      "Epoch [5/1000], Step [1/4], Loss: 0.2893, Accuracy: 93.22%, F1 Score: 0.90\n",
      "Epoch [6/1000], Step [1/4], Loss: 0.2816, Accuracy: 94.39%, F1 Score: 0.91\n",
      "Epoch [7/1000], Step [1/4], Loss: 0.2744, Accuracy: 95.44%, F1 Score: 0.91\n",
      "Epoch [8/1000], Step [1/4], Loss: 0.2695, Accuracy: 97.31%, F1 Score: 0.91\n",
      "Epoch [9/1000], Step [1/4], Loss: 0.2859, Accuracy: 97.78%, F1 Score: 0.92\n",
      "Epoch [10/1000], Step [1/4], Loss: 0.2576, Accuracy: 98.60%, F1 Score: 0.93\n",
      "Epoch [11/1000], Step [1/4], Loss: 0.2515, Accuracy: 98.13%, F1 Score: 0.93\n",
      "Epoch [12/1000], Step [1/4], Loss: 0.2715, Accuracy: 98.83%, F1 Score: 0.92\n",
      "Epoch [13/1000], Step [1/4], Loss: 0.2805, Accuracy: 99.77%, F1 Score: 0.93\n",
      "Epoch [14/1000], Step [1/4], Loss: 0.2797, Accuracy: 99.88%, F1 Score: 0.92\n",
      "Epoch [15/1000], Step [1/4], Loss: 0.2890, Accuracy: 99.77%, F1 Score: 0.93\n",
      "Epoch [16/1000], Step [1/4], Loss: 0.3002, Accuracy: 99.77%, F1 Score: 0.93\n",
      "Epoch [17/1000], Step [1/4], Loss: 0.2802, Accuracy: 100.00%, F1 Score: 0.93\n",
      "Epoch [18/1000], Step [1/4], Loss: 0.2805, Accuracy: 100.00%, F1 Score: 0.93\n",
      "Epoch [19/1000], Step [1/4], Loss: 0.3063, Accuracy: 99.88%, F1 Score: 0.93\n",
      "Epoch [20/1000], Step [1/4], Loss: 0.3052, Accuracy: 100.00%, F1 Score: 0.93\n",
      "Epoch [21/1000], Step [1/4], Loss: 0.3188, Accuracy: 100.00%, F1 Score: 0.93\n",
      "\n",
      "----------------------------------------\n",
      "Early stopping at epoch 20\n",
      "Best epoch:  10\n",
      "Best loss:  0.2514840066432953  Best test F1 score:  0.9311237057401309  Best test accuracy:  0.9313333333333333\n"
     ]
    }
   ],
   "source": [
    "#device = torch.device('cpu')\n",
    "\n",
    "model2 = CNN2().to(device)\n",
    "\n",
    "train_and_save_model(model2, data_loader, valid_loader, device)\n"
   ]
  },
  {
   "cell_type": "code",
   "execution_count": 143,
   "metadata": {},
   "outputs": [
    {
     "name": "stdout",
     "output_type": "stream",
     "text": [
      "Epoch [1/1000], Step [1/4], Loss: 1.2551, Accuracy: 31.43%, F1 Score: 0.40\n",
      "Epoch [2/1000], Step [1/4], Loss: 0.9315, Accuracy: 62.50%, F1 Score: 0.60\n",
      "Epoch [3/1000], Step [1/4], Loss: 0.6950, Accuracy: 70.68%, F1 Score: 0.69\n",
      "Epoch [4/1000], Step [1/4], Loss: 0.5208, Accuracy: 75.47%, F1 Score: 0.78\n",
      "Epoch [5/1000], Step [1/4], Loss: 0.4592, Accuracy: 85.16%, F1 Score: 0.81\n",
      "Epoch [6/1000], Step [1/4], Loss: 0.4490, Accuracy: 86.57%, F1 Score: 0.84\n",
      "Epoch [7/1000], Step [1/4], Loss: 0.3599, Accuracy: 86.80%, F1 Score: 0.85\n",
      "Epoch [8/1000], Step [1/4], Loss: 0.3373, Accuracy: 87.50%, F1 Score: 0.87\n",
      "Epoch [9/1000], Step [1/4], Loss: 0.3057, Accuracy: 89.72%, F1 Score: 0.89\n",
      "Epoch [10/1000], Step [1/4], Loss: 0.2667, Accuracy: 93.69%, F1 Score: 0.90\n",
      "Epoch [11/1000], Step [1/4], Loss: 0.2634, Accuracy: 94.28%, F1 Score: 0.91\n",
      "Epoch [12/1000], Step [1/4], Loss: 0.2501, Accuracy: 93.22%, F1 Score: 0.91\n",
      "Epoch [13/1000], Step [1/4], Loss: 0.2561, Accuracy: 95.44%, F1 Score: 0.92\n",
      "Epoch [14/1000], Step [1/4], Loss: 0.2574, Accuracy: 95.44%, F1 Score: 0.92\n",
      "Epoch [15/1000], Step [1/4], Loss: 0.2514, Accuracy: 96.73%, F1 Score: 0.92\n",
      "Epoch [16/1000], Step [1/4], Loss: 0.2386, Accuracy: 96.73%, F1 Score: 0.93\n",
      "Epoch [17/1000], Step [1/4], Loss: 0.2521, Accuracy: 97.55%, F1 Score: 0.93\n",
      "Epoch [18/1000], Step [1/4], Loss: 0.2451, Accuracy: 97.43%, F1 Score: 0.93\n",
      "Epoch [19/1000], Step [1/4], Loss: 0.2638, Accuracy: 98.13%, F1 Score: 0.92\n",
      "Epoch [20/1000], Step [1/4], Loss: 0.2718, Accuracy: 98.25%, F1 Score: 0.92\n",
      "Epoch [21/1000], Step [1/4], Loss: 0.2945, Accuracy: 99.07%, F1 Score: 0.92\n",
      "Epoch [22/1000], Step [1/4], Loss: 0.3271, Accuracy: 97.55%, F1 Score: 0.91\n",
      "Epoch [23/1000], Step [1/4], Loss: 0.3407, Accuracy: 98.83%, F1 Score: 0.91\n",
      "Epoch [24/1000], Step [1/4], Loss: 0.3091, Accuracy: 96.85%, F1 Score: 0.91\n",
      "Epoch [25/1000], Step [1/4], Loss: 0.2511, Accuracy: 98.25%, F1 Score: 0.93\n",
      "Epoch [26/1000], Step [1/4], Loss: 0.2619, Accuracy: 99.42%, F1 Score: 0.93\n",
      "\n",
      "----------------------------------------\n",
      "Early stopping at epoch 25\n",
      "Best epoch:  15\n",
      "Best loss:  0.23862038552761078  Best test F1 score:  0.9278303515001309  Best test accuracy:  0.928\n"
     ]
    }
   ],
   "source": [
    "\n",
    "model3 = CNN3().to(device)\n",
    "train_and_save_model(model3, data_loader, valid_loader, device)"
   ]
  },
  {
   "cell_type": "code",
   "execution_count": 144,
   "metadata": {},
   "outputs": [],
   "source": [
    "def evaluate_model(model, valid_loader):\n",
    "    model.eval()\n",
    "    with torch.no_grad():\n",
    "        correct = 0\n",
    "        total = 0\n",
    "        all_labels = []\n",
    "        all_predictions = []\n",
    "        for images, labels in valid_loader:\n",
    "            images = images.to(device)\n",
    "            outputs = model(images)\n",
    "            _, predicted = torch.max(outputs.data, 1)\n",
    "            total += labels.size(0)\n",
    "            correct += (predicted == labels).sum().item()\n",
    "            all_labels.extend(labels.cpu().numpy())\n",
    "            all_predictions.extend(predicted.cpu().numpy())\n",
    "        print('Test Accuracy of the model (validation): {:.2f} %'\n",
    "        .format((correct / total) * 100))\n",
    "        print('F1 Score of the model (validation): {:.2f} %'\n",
    "        .format((f1_score(all_labels, all_predictions, average='macro')) * 100))\n",
    "\n",
    "def test_model(model, test_loader):\n",
    "    model.eval()\n",
    "    with torch.no_grad():\n",
    "        correct = 0\n",
    "        total = 0\n",
    "        all_labels = []\n",
    "        all_predictions = []\n",
    "        for images, labels in test_loader:\n",
    "            images = images.to(device)\n",
    "            outputs = model(images)\n",
    "            _, predicted = torch.max(outputs.data, 1)\n",
    "            total += labels.size(0)\n",
    "            correct += (predicted == labels).sum().item()\n",
    "            all_labels.extend(labels.cpu().numpy())\n",
    "            all_predictions.extend(predicted.cpu().numpy())\n",
    "        print('Test Accuracy of the model (testing): {:.2f} %'\n",
    "        .format((correct / total) * 100))\n",
    "        print('F1 Score of the model (testing): {:.2f} %'\n",
    "        .format((f1_score(all_labels, all_predictions, average='macro')) * 100))"
   ]
  },
  {
   "cell_type": "code",
   "execution_count": null,
   "metadata": {},
   "outputs": [],
   "source": []
  },
  {
   "cell_type": "code",
   "execution_count": 165,
   "metadata": {},
   "outputs": [
    {
     "name": "stdout",
     "output_type": "stream",
     "text": [
      "\n",
      "Model:  CNN \n",
      "\n",
      "Test Accuracy of the model (validation): 91.73 %\n",
      "F1 Score of the model (validation): 91.71 %\n",
      "\n",
      "\n",
      "Test Accuracy of the model (testing): 90.53 %\n",
      "F1 Score of the model (testing): 90.51 %\n",
      "\n",
      "Model:  CNN2 \n",
      "\n",
      "Test Accuracy of the model (validation): 93.47 %\n",
      "F1 Score of the model (validation): 93.45 %\n",
      "\n",
      "\n",
      "Test Accuracy of the model (testing): 91.20 %\n",
      "F1 Score of the model (testing): 91.14 %\n",
      "\n",
      "Model:  CNN3 \n",
      "\n",
      "Test Accuracy of the model (validation): 91.80 %\n",
      "F1 Score of the model (validation): 91.82 %\n",
      "\n",
      "\n",
      "Test Accuracy of the model (testing): 90.87 %\n",
      "F1 Score of the model (testing): 90.78 %\n"
     ]
    }
   ],
   "source": [
    "for model in [model1, model2, model3]:\n",
    "    print('\\nModel: ', model.name, '\\n')\n",
    "\n",
    "    evaluate_model(model, valid_loader)\n",
    "    print('\\n')\n",
    "    test_model(model, test_loader)"
   ]
  },
  {
   "cell_type": "code",
   "execution_count": null,
   "metadata": {},
   "outputs": [],
   "source": []
  },
  {
   "cell_type": "code",
   "execution_count": 146,
   "metadata": {},
   "outputs": [],
   "source": [
    "# function to test an individual image from an external source\n",
    "def test_individual_image(model, image_name, category, read_custom_path = ''):\n",
    "    if (read_custom_path != ''):\n",
    "        img = cv2.imread(read_custom_path, 0)\n",
    "        image_name = read_custom_path\n",
    "        #save the image\n",
    "    else:\n",
    "        img = cv2.imread(\"../concat_data/%s/%s\" % (category, image_name), 0)\n",
    "    \n",
    "    #resize to 48x48 pixels\n",
    "    img = cv2.resize(img, (48, 48))\n",
    "\n",
    "\n",
    "\n",
    "    #if image 3 channel convert to 1 channel\n",
    "    if len(img.shape) > 2:\n",
    "        img = cv2.cvtColor(img, cv2.COLOR_BGR2GRAY)\n",
    "\n",
    "    cv2.imwrite(\"image_mod.jpg\", img)\n",
    "    \n",
    "    # Convert image to tensor and add batch and channel dimensions\n",
    "    img_tensor = torch.tensor(img, dtype=torch.float32).unsqueeze(0).unsqueeze(0)\n",
    "    \n",
    "    # Get label tensor\n",
    "    labels = {'focused': 0, 'happy': 1, 'neutral': 2, 'surprised': 3}\n",
    "    reverse_labels = {0: 'focused', 1: 'happy', 2: 'neutral', 3: 'surprised'}\n",
    "    label_tensor = torch.tensor(labels[category], dtype=torch.long)\n",
    "\n",
    "    # Forward pass for the single image\n",
    "    img_tensor = img_tensor.to(device)\n",
    "    output = model(img_tensor)\n",
    "    _, predicted = torch.max(output, 1)\n",
    "\n",
    "    # Print results\n",
    "    print(\"Predicted:\", predicted.item(), \"(\", reverse_labels[predicted.item()], \")\")\n",
    "    print(\"Actual:\", label_tensor.item(), \"(\", reverse_labels[label_tensor.item()], \")\")\n",
    "    print(\"Image:\", image_name)\n",
    "    print(\"Category:\", category)\n",
    "    print(\"///////\")\n",
    "    \n",
    "    return predicted.item()"
   ]
  },
  {
   "cell_type": "code",
   "execution_count": 166,
   "metadata": {},
   "outputs": [
    {
     "name": "stdout",
     "output_type": "stream",
     "text": [
      "Predicted: 1 ( happy )\n",
      "Actual: 1 ( happy )\n",
      "Image: ../unseen-test-imgs/test_smile.PNG\n",
      "Category: happy\n",
      "///////\n"
     ]
    },
    {
     "data": {
      "text/plain": [
       "1"
      ]
     },
     "execution_count": 166,
     "metadata": {},
     "output_type": "execute_result"
    }
   ],
   "source": [
    "test_individual_image(model2, \"86_MMA-FACIAL-EXPRESSION-mahmoud.jpg\", \"happy\", read_custom_path=r\"../unseen-test-imgs/test_smile.PNG\")\n"
   ]
  },
  {
   "cell_type": "code",
   "execution_count": 167,
   "metadata": {},
   "outputs": [
    {
     "name": "stdout",
     "output_type": "stream",
     "text": [
      "Predicted: 0 ( focused )\n",
      "Actual: 2 ( neutral )\n",
      "Image: ../unseen-test-imgs/test_neutral.PNG\n",
      "Category: neutral\n",
      "///////\n"
     ]
    },
    {
     "data": {
      "text/plain": [
       "0"
      ]
     },
     "execution_count": 167,
     "metadata": {},
     "output_type": "execute_result"
    }
   ],
   "source": [
    "test_individual_image(model2, \"86_MMA-FACIAL-EXPRESSION-mahmoud.jpg\", \"neutral\", read_custom_path=r\"../unseen-test-imgs/test_neutral.PNG\")"
   ]
  },
  {
   "cell_type": "code",
   "execution_count": 169,
   "metadata": {},
   "outputs": [
    {
     "name": "stdout",
     "output_type": "stream",
     "text": [
      "Predicted: 0 ( focused )\n",
      "Actual: 0 ( focused )\n",
      "Image: ../unseen-test-imgs/test_focused.PNG\n",
      "Category: focused\n",
      "///////\n",
      "Predicted: 0 ( focused )\n",
      "Actual: 0 ( focused )\n",
      "Image: ../unseen-test-imgs/test_focused_2.PNG\n",
      "Category: focused\n",
      "///////\n",
      "Predicted: 0 ( focused )\n",
      "Actual: 0 ( focused )\n",
      "Image: ../unseen-test-imgs/test_focused_3.PNG\n",
      "Category: focused\n",
      "///////\n",
      "Predicted: 0 ( focused )\n",
      "Actual: 0 ( focused )\n",
      "Image: ../unseen-test-imgs/test_focused_4.PNG\n",
      "Category: focused\n",
      "///////\n",
      "Predicted: 0 ( focused )\n",
      "Actual: 0 ( focused )\n",
      "Image: ../unseen-test-imgs/test_focused_5.PNG\n",
      "Category: focused\n",
      "///////\n"
     ]
    },
    {
     "data": {
      "text/plain": [
       "0"
      ]
     },
     "execution_count": 169,
     "metadata": {},
     "output_type": "execute_result"
    }
   ],
   "source": [
    "test_individual_image(model2, \"86_MMA-FACIAL-EXPRESSION-mahmoud.jpg\", \"focused\", read_custom_path=r\"../unseen-test-imgs/test_focused.PNG\")\n",
    "test_individual_image(model2, \"86_MMA-FACIAL-EXPRESSION-mahmoud.jpg\", \"focused\", read_custom_path=r\"../unseen-test-imgs/test_focused_2.PNG\")\n",
    "test_individual_image(model2, \"86_MMA-FACIAL-EXPRESSION-mahmoud.jpg\", \"focused\", read_custom_path=r\"../unseen-test-imgs/test_focused_3.PNG\")\n",
    "test_individual_image(model2, \"86_MMA-FACIAL-EXPRESSION-mahmoud.jpg\", \"focused\", read_custom_path=r\"../unseen-test-imgs/test_focused_4.PNG\")\n",
    "test_individual_image(model2, \"86_MMA-FACIAL-EXPRESSION-mahmoud.jpg\", \"focused\", read_custom_path=r\"../unseen-test-imgs/test_focused_5.PNG\")"
   ]
  },
  {
   "cell_type": "code",
   "execution_count": 170,
   "metadata": {},
   "outputs": [
    {
     "name": "stdout",
     "output_type": "stream",
     "text": [
      "Predicted: 3 ( surprised )\n",
      "Actual: 3 ( surprised )\n",
      "Image: ../unseen-test-imgs/test_surprised.PNG\n",
      "Category: surprised\n",
      "///////\n"
     ]
    },
    {
     "data": {
      "text/plain": [
       "3"
      ]
     },
     "execution_count": 170,
     "metadata": {},
     "output_type": "execute_result"
    }
   ],
   "source": [
    "test_individual_image(model2, \"86_MMA-FACIAL-EXPRESSION-mahmoud.jpg\", \"surprised\", read_custom_path=r\"../unseen-test-imgs/test_surprised.PNG\")"
   ]
  },
  {
   "cell_type": "code",
   "execution_count": 151,
   "metadata": {},
   "outputs": [
    {
     "name": "stderr",
     "output_type": "stream",
     "text": [
      "[ WARN:0@4445.103] global loadsave.cpp:248 findDecoder imread_('../concat_data/focused/86_MMA-FACIAL-EXPRESSION-mahmoud.jpg'): can't open/read file: check file path/integrity\n"
     ]
    },
    {
     "ename": "error",
     "evalue": "OpenCV(4.9.0) /io/opencv/modules/imgproc/src/resize.cpp:4152: error: (-215:Assertion failed) !ssize.empty() in function 'resize'\n",
     "output_type": "error",
     "traceback": [
      "\u001b[0;31m---------------------------------------------------------------------------\u001b[0m",
      "\u001b[0;31merror\u001b[0m                                     Traceback (most recent call last)",
      "Cell \u001b[0;32mIn[151], line 1\u001b[0m\n\u001b[0;32m----> 1\u001b[0m \u001b[43mtest_individual_image\u001b[49m\u001b[43m(\u001b[49m\u001b[43mmodel1\u001b[49m\u001b[43m,\u001b[49m\u001b[43m \u001b[49m\u001b[38;5;124;43m\"\u001b[39;49m\u001b[38;5;124;43m86_MMA-FACIAL-EXPRESSION-mahmoud.jpg\u001b[39;49m\u001b[38;5;124;43m\"\u001b[39;49m\u001b[43m,\u001b[49m\u001b[43m \u001b[49m\u001b[38;5;124;43m\"\u001b[39;49m\u001b[38;5;124;43mfocused\u001b[39;49m\u001b[38;5;124;43m\"\u001b[39;49m\u001b[43m)\u001b[49m\n",
      "Cell \u001b[0;32mIn[146], line 11\u001b[0m, in \u001b[0;36mtest_individual_image\u001b[0;34m(model, image_name, category, read_custom_path)\u001b[0m\n\u001b[1;32m      8\u001b[0m     img \u001b[38;5;241m=\u001b[39m cv2\u001b[38;5;241m.\u001b[39mimread(\u001b[38;5;124m\"\u001b[39m\u001b[38;5;124m../concat_data/\u001b[39m\u001b[38;5;132;01m%s\u001b[39;00m\u001b[38;5;124m/\u001b[39m\u001b[38;5;132;01m%s\u001b[39;00m\u001b[38;5;124m\"\u001b[39m \u001b[38;5;241m%\u001b[39m (category, image_name), \u001b[38;5;241m0\u001b[39m)\n\u001b[1;32m     10\u001b[0m \u001b[38;5;66;03m#resize to 48x48 pixels\u001b[39;00m\n\u001b[0;32m---> 11\u001b[0m img \u001b[38;5;241m=\u001b[39m \u001b[43mcv2\u001b[49m\u001b[38;5;241;43m.\u001b[39;49m\u001b[43mresize\u001b[49m\u001b[43m(\u001b[49m\u001b[43mimg\u001b[49m\u001b[43m,\u001b[49m\u001b[43m \u001b[49m\u001b[43m(\u001b[49m\u001b[38;5;241;43m48\u001b[39;49m\u001b[43m,\u001b[49m\u001b[43m \u001b[49m\u001b[38;5;241;43m48\u001b[39;49m\u001b[43m)\u001b[49m\u001b[43m)\u001b[49m\n\u001b[1;32m     15\u001b[0m \u001b[38;5;66;03m#if image 3 channel convert to 1 channel\u001b[39;00m\n\u001b[1;32m     16\u001b[0m \u001b[38;5;28;01mif\u001b[39;00m \u001b[38;5;28mlen\u001b[39m(img\u001b[38;5;241m.\u001b[39mshape) \u001b[38;5;241m>\u001b[39m \u001b[38;5;241m2\u001b[39m:\n",
      "\u001b[0;31merror\u001b[0m: OpenCV(4.9.0) /io/opencv/modules/imgproc/src/resize.cpp:4152: error: (-215:Assertion failed) !ssize.empty() in function 'resize'\n"
     ]
    }
   ],
   "source": [
    "test_individual_image(model1, \"86_MMA-FACIAL-EXPRESSION-mahmoud.jpg\", \"focused\")"
   ]
  }
 ],
 "metadata": {
  "kernelspec": {
   "display_name": "Python 3",
   "language": "python",
   "name": "python3"
  },
  "language_info": {
   "codemirror_mode": {
    "name": "ipython",
    "version": 3
   },
   "file_extension": ".py",
   "mimetype": "text/x-python",
   "name": "python",
   "nbconvert_exporter": "python",
   "pygments_lexer": "ipython3",
   "version": "3.9.18"
  }
 },
 "nbformat": 4,
 "nbformat_minor": 2
}
