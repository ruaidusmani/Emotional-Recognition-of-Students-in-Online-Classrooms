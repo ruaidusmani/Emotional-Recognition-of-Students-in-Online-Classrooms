{
 "cells": [
  {
   "cell_type": "code",
   "execution_count": 27,
   "metadata": {},
   "outputs": [],
   "source": [
    "import os\n",
    "import pandas\n",
    "import requests"
   ]
  },
  {
   "cell_type": "code",
   "execution_count": 28,
   "metadata": {},
   "outputs": [],
   "source": [
    "# read csv\n",
    "df = pandas.read_csv(\"../concat_data_tagged/non-binary/non-binary-faces.csv\", header=None)"
   ]
  },
  {
   "cell_type": "code",
   "execution_count": 29,
   "metadata": {},
   "outputs": [],
   "source": [
    "#get all elemeents of the first column and put them in an array\n",
    "links = df[0].values\n",
    "tags = df[1].values"
   ]
  },
  {
   "cell_type": "code",
   "execution_count": null,
   "metadata": {},
   "outputs": [],
   "source": []
  },
  {
   "cell_type": "code",
   "execution_count": 30,
   "metadata": {},
   "outputs": [
    {
     "name": "stdout",
     "output_type": "stream",
     "text": [
      "Image 0_H already exists\n",
      "Image 1_N already exists\n",
      "Image 2_S already exists\n",
      "Image 3_N already exists\n",
      "Image 4_N already exists\n",
      "Image 5_F already exists\n",
      "Image 6_F already exists\n",
      "Image 7_F already exists\n",
      "Image 8_N already exists\n",
      "Image 9_N already exists\n",
      "Image 10_F already exists\n",
      "Image 11_F already exists\n",
      "Image 12_N already exists\n",
      "Image 13_F already exists\n",
      "Image 14_H already exists\n",
      "Image 15_H already exists\n",
      "Image 16_S already exists\n",
      "Image 17_F already exists\n",
      "Image 18_F already exists\n",
      "Image 19_F already exists\n",
      "Image 20_F already exists\n",
      "Image 21_H already exists\n",
      "Image 22_H already exists\n",
      "Image 23_N already exists\n",
      "Image 24_H already exists\n",
      "Image 25_S already exists\n",
      "Image 26_S already exists\n",
      "Image 27_N already exists\n",
      "Image 28_F already exists\n",
      "Image 29_F already exists\n",
      "Image 30_F already exists\n",
      "Image 31_H already exists\n",
      "Image 32_H already exists\n",
      "Image 33_H already exists\n",
      "Image 34_F already exists\n",
      "Image 35_H already exists\n",
      "Image 36_F already exists\n",
      "Image 37_H already exists\n",
      "Image 38_H already exists\n",
      "Image 39_H already exists\n",
      "Image 40_H already exists\n",
      "Image 41_H already exists\n",
      "Image 42_F already exists\n",
      "Image 43_N already exists\n",
      "Image 44_H already exists\n",
      "Image 45_S already exists\n",
      "Image 46_S already exists\n",
      "Image 47_S already exists\n",
      "Image 48_N already exists\n",
      "Image 49_N already exists\n"
     ]
    }
   ],
   "source": [
    "for i in range(len(links)):\n",
    "    tag = tags[i]\n",
    "    #check if image exists in folder\n",
    "    if os.path.exists('../concat_data_tagged/non-binary/various_%s.jpg' %(str(i) + \"_\" + tag)):\n",
    "        print(\"Image %s already exists\" %(str(i) + \"_\" + tag))\n",
    "    else:\n",
    "        #download image and save as \"i_tag\"\n",
    "        img_data = requests.get(links[i]).content\n",
    "        with open('../concat_data_tagged/non-binary/various_%s.jpg' %(str(i) + \"_\" + tag), 'wb') as handler:\n",
    "            handler.write(img_data)"
   ]
  },
  {
   "cell_type": "code",
   "execution_count": 31,
   "metadata": {},
   "outputs": [
    {
     "name": "stdout",
     "output_type": "stream",
     "text": [
      "H:  16\n",
      "S:  7\n",
      "N:  15\n",
      "F:  16\n"
     ]
    }
   ],
   "source": [
    "#for each element in tags, count how many of \"H\", \"S\", \"N\", \"F\"\n",
    "#and print the result\n",
    "H = 0\n",
    "S = 0\n",
    "N = 0\n",
    "F = 0\n",
    "for tag in tags:\n",
    "    if tag == \"H\":\n",
    "        H += 1\n",
    "    elif tag == \"S\":\n",
    "        S += 1\n",
    "    elif tag == \"N\":\n",
    "        N += 1\n",
    "    elif tag == \"F\":\n",
    "        F += 1\n",
    "print(\"H: \", H)\n",
    "print(\"S: \", S)\n",
    "print(\"N: \", N)\n",
    "print(\"F: \", F)\n"
   ]
  },
  {
   "cell_type": "code",
   "execution_count": null,
   "metadata": {},
   "outputs": [],
   "source": []
  }
 ],
 "metadata": {
  "kernelspec": {
   "display_name": "Python 3",
   "language": "python",
   "name": "python3"
  },
  "language_info": {
   "codemirror_mode": {
    "name": "ipython",
    "version": 3
   },
   "file_extension": ".py",
   "mimetype": "text/x-python",
   "name": "python",
   "nbconvert_exporter": "python",
   "pygments_lexer": "ipython3",
   "version": "3.11.9"
  }
 },
 "nbformat": 4,
 "nbformat_minor": 2
}
